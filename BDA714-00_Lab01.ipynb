{
  "nbformat": 4,
  "nbformat_minor": 0,
  "metadata": {
    "colab": {
      "name": "BDA714-00_Lab01.ipynb",
      "provenance": [],
      "collapsed_sections": []
    },
    "kernelspec": {
      "name": "python3",
      "display_name": "Python 3"
    },
    "language_info": {
      "name": "python"
    }
  },
  "cells": [
    {
      "cell_type": "markdown",
      "metadata": {
        "id": "Y9FCLIzbM9fn"
      },
      "source": [
        "# Lab Session \\# 01 \n",
        "\n",
        "\n",
        "---\n",
        "\n",
        "\n",
        "by Josué Obregón <br>\n",
        "BDA714-00 - Data Mining <br>\n",
        "Department of Big Data Analytics - Kyung Hee University<br>\n"
      ]
    },
    {
      "cell_type": "markdown",
      "metadata": {
        "id": "w0-nImUHNxOv"
      },
      "source": [
        "## Objective\n",
        "\n",
        "The objective of this lab session is to familiarize the student with some of the different technologies tools that we will use throughout the course: GitHub, Google colab and the scikit-learn library."
      ]
    },
    {
      "cell_type": "markdown",
      "metadata": {
        "id": "RYjZ_KEuTCTe"
      },
      "source": [
        "## Importing libraries and loading the data to a pandas [DataFrame](https://pandas.pydata.org/docs/reference/api/pandas.DataFrame.html)\n",
        "\n",
        "\n",
        "The libraries we'll import to start with, are pandas for handling the data and matplotlib for some plotting.\n",
        "\n",
        "Data were obtained from a study of image segmentation quality for SK-BR-3 cells. [Link to article with data details](https://bmcbioinformatics.biomedcentral.com/articles/10.1186/1471-2105-8-340#Sec22) -- [Link to data](https://static-content.springer.com/esm/art%3A10.1186%2F1471-2105-8-340/MediaObjects/12859_2006_1712_MOESM1_ESM.csv)\n"
      ]
    },
    {
      "cell_type": "code",
      "metadata": {
        "id": "0q6Lu5uKPRoa"
      },
      "source": [
        "import pandas as pd\n",
        "import matplotlib.pyplot as plt"
      ],
      "execution_count": 1,
      "outputs": []
    },
    {
      "cell_type": "code",
      "metadata": {
        "id": "bBRl7VGfALex"
      },
      "source": [
        "!mkdir data"
      ],
      "execution_count": 2,
      "outputs": []
    },
    {
      "cell_type": "code",
      "metadata": {
        "id": "YR1uTokC8Wzi",
        "outputId": "d75224e2-e218-4a14-892a-a38f45bd95dc",
        "colab": {
          "base_uri": "https://localhost:8080/",
          "height": 105
        }
      },
      "source": [
        "import gdown\n",
        "\n",
        "url = 'https://drive.google.com/uc?export=download&id=1iaPYDUAJ8rCApeYfQplMbzeLPPUyQJ8f'\n",
        "output = 'data/screening_data.csv'\n",
        "gdown.download(url, output, quiet=False)"
      ],
      "execution_count": 3,
      "outputs": [
        {
          "output_type": "stream",
          "name": "stderr",
          "text": [
            "Downloading...\n",
            "From: https://drive.google.com/uc?export=download&id=1iaPYDUAJ8rCApeYfQplMbzeLPPUyQJ8f\n",
            "To: /content/data/screening_data.csv\n",
            "100%|██████████| 2.06M/2.06M [00:00<00:00, 69.7MB/s]\n"
          ]
        },
        {
          "output_type": "execute_result",
          "data": {
            "application/vnd.google.colaboratory.intrinsic+json": {
              "type": "string"
            },
            "text/plain": [
              "'data/screening_data.csv'"
            ]
          },
          "metadata": {},
          "execution_count": 3
        }
      ]
    },
    {
      "cell_type": "code",
      "metadata": {
        "id": "tbt7GzUNOT3O"
      },
      "source": [
        "df = pd.read_csv('data/screening_data.csv')"
      ],
      "execution_count": 4,
      "outputs": []
    },
    {
      "cell_type": "code",
      "metadata": {
        "id": "0MCGdyjEP-wp",
        "outputId": "215acd1f-17be-4d83-c4ac-67c0016b518e",
        "colab": {
          "base_uri": "https://localhost:8080/",
          "height": 317
        }
      },
      "source": [
        "df.head(5)"
      ],
      "execution_count": 5,
      "outputs": [
        {
          "output_type": "execute_result",
          "data": {
            "text/html": [
              "\n",
              "  <div id=\"df-d1f273e4-3c79-46e7-b2e8-b927b936c5ef\">\n",
              "    <div class=\"colab-df-container\">\n",
              "      <div>\n",
              "<style scoped>\n",
              "    .dataframe tbody tr th:only-of-type {\n",
              "        vertical-align: middle;\n",
              "    }\n",
              "\n",
              "    .dataframe tbody tr th {\n",
              "        vertical-align: top;\n",
              "    }\n",
              "\n",
              "    .dataframe thead th {\n",
              "        text-align: right;\n",
              "    }\n",
              "</style>\n",
              "<table border=\"1\" class=\"dataframe\">\n",
              "  <thead>\n",
              "    <tr style=\"text-align: right;\">\n",
              "      <th></th>\n",
              "      <th>Unnamed: 0</th>\n",
              "      <th>Case</th>\n",
              "      <th>Class</th>\n",
              "      <th>MorphologyV2Cell.AngleCh1</th>\n",
              "      <th>MorphologyV2Cell.AngleStatusCh1</th>\n",
              "      <th>MorphologyV2Cell.AreaCh1</th>\n",
              "      <th>MorphologyV2Cell.AreaStatusCh1</th>\n",
              "      <th>MorphologyV2Cell.AvgIntenCh1</th>\n",
              "      <th>MorphologyV2Cell.AvgIntenCh2</th>\n",
              "      <th>MorphologyV2Cell.AvgIntenCh3</th>\n",
              "      <th>...</th>\n",
              "      <th>MorphologyV2Cell.VarIntenCh1</th>\n",
              "      <th>MorphologyV2Cell.VarIntenCh3</th>\n",
              "      <th>MorphologyV2Cell.VarIntenCh4</th>\n",
              "      <th>MorphologyV2Cell.VarIntenStatusCh1</th>\n",
              "      <th>MorphologyV2Cell.VarIntenStatusCh3</th>\n",
              "      <th>MorphologyV2Cell.VarIntenStatusCh4</th>\n",
              "      <th>MorphologyV2Cell.WidthCh1</th>\n",
              "      <th>MorphologyV2Cell.WidthStatusCh1</th>\n",
              "      <th>MorphologyV2Cell.XCentroid</th>\n",
              "      <th>MorphologyV2Cell.YCentroid</th>\n",
              "    </tr>\n",
              "  </thead>\n",
              "  <tbody>\n",
              "    <tr>\n",
              "      <th>0</th>\n",
              "      <td>207827637</td>\n",
              "      <td>Test</td>\n",
              "      <td>PS</td>\n",
              "      <td>143.247705</td>\n",
              "      <td>1</td>\n",
              "      <td>185</td>\n",
              "      <td>0</td>\n",
              "      <td>15.711864</td>\n",
              "      <td>3.954802</td>\n",
              "      <td>9.548023</td>\n",
              "      <td>...</td>\n",
              "      <td>12.474676</td>\n",
              "      <td>7.609035</td>\n",
              "      <td>2.714100</td>\n",
              "      <td>0</td>\n",
              "      <td>2</td>\n",
              "      <td>2</td>\n",
              "      <td>10.642974</td>\n",
              "      <td>2</td>\n",
              "      <td>42</td>\n",
              "      <td>14</td>\n",
              "    </tr>\n",
              "    <tr>\n",
              "      <th>1</th>\n",
              "      <td>207932307</td>\n",
              "      <td>Train</td>\n",
              "      <td>PS</td>\n",
              "      <td>133.752037</td>\n",
              "      <td>0</td>\n",
              "      <td>819</td>\n",
              "      <td>1</td>\n",
              "      <td>31.923274</td>\n",
              "      <td>205.878517</td>\n",
              "      <td>69.916880</td>\n",
              "      <td>...</td>\n",
              "      <td>18.809225</td>\n",
              "      <td>56.715352</td>\n",
              "      <td>118.388139</td>\n",
              "      <td>0</td>\n",
              "      <td>0</td>\n",
              "      <td>0</td>\n",
              "      <td>32.161261</td>\n",
              "      <td>1</td>\n",
              "      <td>215</td>\n",
              "      <td>347</td>\n",
              "    </tr>\n",
              "    <tr>\n",
              "      <th>2</th>\n",
              "      <td>207932463</td>\n",
              "      <td>Train</td>\n",
              "      <td>WS</td>\n",
              "      <td>106.646387</td>\n",
              "      <td>0</td>\n",
              "      <td>431</td>\n",
              "      <td>0</td>\n",
              "      <td>28.038835</td>\n",
              "      <td>115.315534</td>\n",
              "      <td>63.941748</td>\n",
              "      <td>...</td>\n",
              "      <td>17.295643</td>\n",
              "      <td>37.671053</td>\n",
              "      <td>49.470524</td>\n",
              "      <td>0</td>\n",
              "      <td>0</td>\n",
              "      <td>0</td>\n",
              "      <td>21.185525</td>\n",
              "      <td>0</td>\n",
              "      <td>371</td>\n",
              "      <td>252</td>\n",
              "    </tr>\n",
              "    <tr>\n",
              "      <th>3</th>\n",
              "      <td>207932470</td>\n",
              "      <td>Train</td>\n",
              "      <td>PS</td>\n",
              "      <td>69.150325</td>\n",
              "      <td>0</td>\n",
              "      <td>298</td>\n",
              "      <td>0</td>\n",
              "      <td>19.456140</td>\n",
              "      <td>101.294737</td>\n",
              "      <td>28.217544</td>\n",
              "      <td>...</td>\n",
              "      <td>13.818968</td>\n",
              "      <td>30.005643</td>\n",
              "      <td>24.749537</td>\n",
              "      <td>0</td>\n",
              "      <td>0</td>\n",
              "      <td>2</td>\n",
              "      <td>13.392830</td>\n",
              "      <td>0</td>\n",
              "      <td>487</td>\n",
              "      <td>295</td>\n",
              "    </tr>\n",
              "    <tr>\n",
              "      <th>4</th>\n",
              "      <td>207932455</td>\n",
              "      <td>Test</td>\n",
              "      <td>PS</td>\n",
              "      <td>2.887837</td>\n",
              "      <td>2</td>\n",
              "      <td>285</td>\n",
              "      <td>0</td>\n",
              "      <td>24.275735</td>\n",
              "      <td>111.415441</td>\n",
              "      <td>20.474265</td>\n",
              "      <td>...</td>\n",
              "      <td>15.407972</td>\n",
              "      <td>20.504288</td>\n",
              "      <td>45.450457</td>\n",
              "      <td>0</td>\n",
              "      <td>0</td>\n",
              "      <td>0</td>\n",
              "      <td>13.198561</td>\n",
              "      <td>0</td>\n",
              "      <td>283</td>\n",
              "      <td>159</td>\n",
              "    </tr>\n",
              "  </tbody>\n",
              "</table>\n",
              "<p>5 rows × 119 columns</p>\n",
              "</div>\n",
              "      <button class=\"colab-df-convert\" onclick=\"convertToInteractive('df-d1f273e4-3c79-46e7-b2e8-b927b936c5ef')\"\n",
              "              title=\"Convert this dataframe to an interactive table.\"\n",
              "              style=\"display:none;\">\n",
              "        \n",
              "  <svg xmlns=\"http://www.w3.org/2000/svg\" height=\"24px\"viewBox=\"0 0 24 24\"\n",
              "       width=\"24px\">\n",
              "    <path d=\"M0 0h24v24H0V0z\" fill=\"none\"/>\n",
              "    <path d=\"M18.56 5.44l.94 2.06.94-2.06 2.06-.94-2.06-.94-.94-2.06-.94 2.06-2.06.94zm-11 1L8.5 8.5l.94-2.06 2.06-.94-2.06-.94L8.5 2.5l-.94 2.06-2.06.94zm10 10l.94 2.06.94-2.06 2.06-.94-2.06-.94-.94-2.06-.94 2.06-2.06.94z\"/><path d=\"M17.41 7.96l-1.37-1.37c-.4-.4-.92-.59-1.43-.59-.52 0-1.04.2-1.43.59L10.3 9.45l-7.72 7.72c-.78.78-.78 2.05 0 2.83L4 21.41c.39.39.9.59 1.41.59.51 0 1.02-.2 1.41-.59l7.78-7.78 2.81-2.81c.8-.78.8-2.07 0-2.86zM5.41 20L4 18.59l7.72-7.72 1.47 1.35L5.41 20z\"/>\n",
              "  </svg>\n",
              "      </button>\n",
              "      \n",
              "  <style>\n",
              "    .colab-df-container {\n",
              "      display:flex;\n",
              "      flex-wrap:wrap;\n",
              "      gap: 12px;\n",
              "    }\n",
              "\n",
              "    .colab-df-convert {\n",
              "      background-color: #E8F0FE;\n",
              "      border: none;\n",
              "      border-radius: 50%;\n",
              "      cursor: pointer;\n",
              "      display: none;\n",
              "      fill: #1967D2;\n",
              "      height: 32px;\n",
              "      padding: 0 0 0 0;\n",
              "      width: 32px;\n",
              "    }\n",
              "\n",
              "    .colab-df-convert:hover {\n",
              "      background-color: #E2EBFA;\n",
              "      box-shadow: 0px 1px 2px rgba(60, 64, 67, 0.3), 0px 1px 3px 1px rgba(60, 64, 67, 0.15);\n",
              "      fill: #174EA6;\n",
              "    }\n",
              "\n",
              "    [theme=dark] .colab-df-convert {\n",
              "      background-color: #3B4455;\n",
              "      fill: #D2E3FC;\n",
              "    }\n",
              "\n",
              "    [theme=dark] .colab-df-convert:hover {\n",
              "      background-color: #434B5C;\n",
              "      box-shadow: 0px 1px 3px 1px rgba(0, 0, 0, 0.15);\n",
              "      filter: drop-shadow(0px 1px 2px rgba(0, 0, 0, 0.3));\n",
              "      fill: #FFFFFF;\n",
              "    }\n",
              "  </style>\n",
              "\n",
              "      <script>\n",
              "        const buttonEl =\n",
              "          document.querySelector('#df-d1f273e4-3c79-46e7-b2e8-b927b936c5ef button.colab-df-convert');\n",
              "        buttonEl.style.display =\n",
              "          google.colab.kernel.accessAllowed ? 'block' : 'none';\n",
              "\n",
              "        async function convertToInteractive(key) {\n",
              "          const element = document.querySelector('#df-d1f273e4-3c79-46e7-b2e8-b927b936c5ef');\n",
              "          const dataTable =\n",
              "            await google.colab.kernel.invokeFunction('convertToInteractive',\n",
              "                                                     [key], {});\n",
              "          if (!dataTable) return;\n",
              "\n",
              "          const docLinkHtml = 'Like what you see? Visit the ' +\n",
              "            '<a target=\"_blank\" href=https://colab.research.google.com/notebooks/data_table.ipynb>data table notebook</a>'\n",
              "            + ' to learn more about interactive tables.';\n",
              "          element.innerHTML = '';\n",
              "          dataTable['output_type'] = 'display_data';\n",
              "          await google.colab.output.renderOutput(dataTable, element);\n",
              "          const docLink = document.createElement('div');\n",
              "          docLink.innerHTML = docLinkHtml;\n",
              "          element.appendChild(docLink);\n",
              "        }\n",
              "      </script>\n",
              "    </div>\n",
              "  </div>\n",
              "  "
            ],
            "text/plain": [
              "   Unnamed: 0   Case Class  MorphologyV2Cell.AngleCh1  \\\n",
              "0   207827637   Test    PS                 143.247705   \n",
              "1   207932307  Train    PS                 133.752037   \n",
              "2   207932463  Train    WS                 106.646387   \n",
              "3   207932470  Train    PS                  69.150325   \n",
              "4   207932455   Test    PS                   2.887837   \n",
              "\n",
              "   MorphologyV2Cell.AngleStatusCh1  MorphologyV2Cell.AreaCh1  \\\n",
              "0                                1                       185   \n",
              "1                                0                       819   \n",
              "2                                0                       431   \n",
              "3                                0                       298   \n",
              "4                                2                       285   \n",
              "\n",
              "   MorphologyV2Cell.AreaStatusCh1  MorphologyV2Cell.AvgIntenCh1  \\\n",
              "0                               0                     15.711864   \n",
              "1                               1                     31.923274   \n",
              "2                               0                     28.038835   \n",
              "3                               0                     19.456140   \n",
              "4                               0                     24.275735   \n",
              "\n",
              "   MorphologyV2Cell.AvgIntenCh2  MorphologyV2Cell.AvgIntenCh3  ...  \\\n",
              "0                      3.954802                      9.548023  ...   \n",
              "1                    205.878517                     69.916880  ...   \n",
              "2                    115.315534                     63.941748  ...   \n",
              "3                    101.294737                     28.217544  ...   \n",
              "4                    111.415441                     20.474265  ...   \n",
              "\n",
              "   MorphologyV2Cell.VarIntenCh1  MorphologyV2Cell.VarIntenCh3  \\\n",
              "0                     12.474676                      7.609035   \n",
              "1                     18.809225                     56.715352   \n",
              "2                     17.295643                     37.671053   \n",
              "3                     13.818968                     30.005643   \n",
              "4                     15.407972                     20.504288   \n",
              "\n",
              "   MorphologyV2Cell.VarIntenCh4  MorphologyV2Cell.VarIntenStatusCh1  \\\n",
              "0                      2.714100                                   0   \n",
              "1                    118.388139                                   0   \n",
              "2                     49.470524                                   0   \n",
              "3                     24.749537                                   0   \n",
              "4                     45.450457                                   0   \n",
              "\n",
              "   MorphologyV2Cell.VarIntenStatusCh3  MorphologyV2Cell.VarIntenStatusCh4  \\\n",
              "0                                   2                                   2   \n",
              "1                                   0                                   0   \n",
              "2                                   0                                   0   \n",
              "3                                   0                                   2   \n",
              "4                                   0                                   0   \n",
              "\n",
              "   MorphologyV2Cell.WidthCh1  MorphologyV2Cell.WidthStatusCh1  \\\n",
              "0                  10.642974                                2   \n",
              "1                  32.161261                                1   \n",
              "2                  21.185525                                0   \n",
              "3                  13.392830                                0   \n",
              "4                  13.198561                                0   \n",
              "\n",
              "   MorphologyV2Cell.XCentroid  MorphologyV2Cell.YCentroid  \n",
              "0                          42                          14  \n",
              "1                         215                         347  \n",
              "2                         371                         252  \n",
              "3                         487                         295  \n",
              "4                         283                         159  \n",
              "\n",
              "[5 rows x 119 columns]"
            ]
          },
          "metadata": {},
          "execution_count": 5
        }
      ]
    },
    {
      "cell_type": "markdown",
      "metadata": {
        "id": "wWDy3WPwUd5M"
      },
      "source": [
        "## Selection of columns to work with and generation of a scatter plot\n",
        "\n",
        "In this example we will work with two specific predictor columns. It is not necessary to know the context about what these mean, so we will rename them to *PredictorA* and *PredictorB*.\n",
        "\n",
        "The *Class* column indicates to which class each record belongs (poorly segmented *PS* or well-segmented *WS*). From here we see that the output variable of our work is a category, therefore the supervised learning task in Machine Learning is **classification**.\n",
        "\n",
        "The *Case* column indicates whether the record was used for training or testing (e.g., *Train* or *Test*). With this information we can partition our data set. We can also choose to split the dataset randomly, but if we want to create repeatable results, the split of the dataset must be the same between different repetitions of the same experiment. This is quite common in academia where the results of experiments can be verified by other researchers.\n",
        "\n",
        "Based on this information, we can make a scatter plot to see the relationship of these predictors.\n",
        "\n",
        "<blockquote> \n",
        "We must take into account that when performing EDA (Exploratory Data Analysis), we only use the training data to avoid any data leakage.( <a href=\"https://en.wikipedia.org/wiki/Leakage_%28machine_learning%29#Training_example_leakage\">Training example leakage</a>).\n",
        "</blockquote>"
      ]
    },
    {
      "cell_type": "code",
      "metadata": {
        "id": "9KLNetz4PkIj"
      },
      "source": [
        "columns = ['MorphologyV2Cell.EqSphereAreaCh1', 'MorphologyV2Cell.PerimCh1', 'Class', 'Case']\n",
        "new_names = ['PredictorA','PredictorB', 'Class', 'Case']"
      ],
      "execution_count": 6,
      "outputs": []
    },
    {
      "cell_type": "code",
      "metadata": {
        "id": "akyvEVfOREij"
      },
      "source": [
        "df = df[columns]\n",
        "df.columns = new_names"
      ],
      "execution_count": 7,
      "outputs": []
    },
    {
      "cell_type": "code",
      "metadata": {
        "id": "i6mNeV6XJif3",
        "outputId": "4e620fbe-d4a0-46a4-bebc-2da73343a24f",
        "colab": {
          "base_uri": "https://localhost:8080/",
          "height": 206
        }
      },
      "source": [
        "df.head()"
      ],
      "execution_count": 8,
      "outputs": [
        {
          "output_type": "execute_result",
          "data": {
            "text/html": [
              "\n",
              "  <div id=\"df-7f440110-9eb3-4d9a-bad2-eeffb74bedee\">\n",
              "    <div class=\"colab-df-container\">\n",
              "      <div>\n",
              "<style scoped>\n",
              "    .dataframe tbody tr th:only-of-type {\n",
              "        vertical-align: middle;\n",
              "    }\n",
              "\n",
              "    .dataframe tbody tr th {\n",
              "        vertical-align: top;\n",
              "    }\n",
              "\n",
              "    .dataframe thead th {\n",
              "        text-align: right;\n",
              "    }\n",
              "</style>\n",
              "<table border=\"1\" class=\"dataframe\">\n",
              "  <thead>\n",
              "    <tr style=\"text-align: right;\">\n",
              "      <th></th>\n",
              "      <th>PredictorA</th>\n",
              "      <th>PredictorB</th>\n",
              "      <th>Class</th>\n",
              "      <th>Case</th>\n",
              "    </tr>\n",
              "  </thead>\n",
              "  <tbody>\n",
              "    <tr>\n",
              "      <th>0</th>\n",
              "      <td>742.115646</td>\n",
              "      <td>68.783380</td>\n",
              "      <td>PS</td>\n",
              "      <td>Test</td>\n",
              "    </tr>\n",
              "    <tr>\n",
              "      <th>1</th>\n",
              "      <td>3278.725624</td>\n",
              "      <td>154.898761</td>\n",
              "      <td>PS</td>\n",
              "      <td>Train</td>\n",
              "    </tr>\n",
              "    <tr>\n",
              "      <th>2</th>\n",
              "      <td>1727.410431</td>\n",
              "      <td>84.564598</td>\n",
              "      <td>WS</td>\n",
              "      <td>Train</td>\n",
              "    </tr>\n",
              "    <tr>\n",
              "      <th>3</th>\n",
              "      <td>1194.931973</td>\n",
              "      <td>101.091070</td>\n",
              "      <td>PS</td>\n",
              "      <td>Train</td>\n",
              "    </tr>\n",
              "    <tr>\n",
              "      <th>4</th>\n",
              "      <td>1140.426304</td>\n",
              "      <td>86.466698</td>\n",
              "      <td>PS</td>\n",
              "      <td>Test</td>\n",
              "    </tr>\n",
              "  </tbody>\n",
              "</table>\n",
              "</div>\n",
              "      <button class=\"colab-df-convert\" onclick=\"convertToInteractive('df-7f440110-9eb3-4d9a-bad2-eeffb74bedee')\"\n",
              "              title=\"Convert this dataframe to an interactive table.\"\n",
              "              style=\"display:none;\">\n",
              "        \n",
              "  <svg xmlns=\"http://www.w3.org/2000/svg\" height=\"24px\"viewBox=\"0 0 24 24\"\n",
              "       width=\"24px\">\n",
              "    <path d=\"M0 0h24v24H0V0z\" fill=\"none\"/>\n",
              "    <path d=\"M18.56 5.44l.94 2.06.94-2.06 2.06-.94-2.06-.94-.94-2.06-.94 2.06-2.06.94zm-11 1L8.5 8.5l.94-2.06 2.06-.94-2.06-.94L8.5 2.5l-.94 2.06-2.06.94zm10 10l.94 2.06.94-2.06 2.06-.94-2.06-.94-.94-2.06-.94 2.06-2.06.94z\"/><path d=\"M17.41 7.96l-1.37-1.37c-.4-.4-.92-.59-1.43-.59-.52 0-1.04.2-1.43.59L10.3 9.45l-7.72 7.72c-.78.78-.78 2.05 0 2.83L4 21.41c.39.39.9.59 1.41.59.51 0 1.02-.2 1.41-.59l7.78-7.78 2.81-2.81c.8-.78.8-2.07 0-2.86zM5.41 20L4 18.59l7.72-7.72 1.47 1.35L5.41 20z\"/>\n",
              "  </svg>\n",
              "      </button>\n",
              "      \n",
              "  <style>\n",
              "    .colab-df-container {\n",
              "      display:flex;\n",
              "      flex-wrap:wrap;\n",
              "      gap: 12px;\n",
              "    }\n",
              "\n",
              "    .colab-df-convert {\n",
              "      background-color: #E8F0FE;\n",
              "      border: none;\n",
              "      border-radius: 50%;\n",
              "      cursor: pointer;\n",
              "      display: none;\n",
              "      fill: #1967D2;\n",
              "      height: 32px;\n",
              "      padding: 0 0 0 0;\n",
              "      width: 32px;\n",
              "    }\n",
              "\n",
              "    .colab-df-convert:hover {\n",
              "      background-color: #E2EBFA;\n",
              "      box-shadow: 0px 1px 2px rgba(60, 64, 67, 0.3), 0px 1px 3px 1px rgba(60, 64, 67, 0.15);\n",
              "      fill: #174EA6;\n",
              "    }\n",
              "\n",
              "    [theme=dark] .colab-df-convert {\n",
              "      background-color: #3B4455;\n",
              "      fill: #D2E3FC;\n",
              "    }\n",
              "\n",
              "    [theme=dark] .colab-df-convert:hover {\n",
              "      background-color: #434B5C;\n",
              "      box-shadow: 0px 1px 3px 1px rgba(0, 0, 0, 0.15);\n",
              "      filter: drop-shadow(0px 1px 2px rgba(0, 0, 0, 0.3));\n",
              "      fill: #FFFFFF;\n",
              "    }\n",
              "  </style>\n",
              "\n",
              "      <script>\n",
              "        const buttonEl =\n",
              "          document.querySelector('#df-7f440110-9eb3-4d9a-bad2-eeffb74bedee button.colab-df-convert');\n",
              "        buttonEl.style.display =\n",
              "          google.colab.kernel.accessAllowed ? 'block' : 'none';\n",
              "\n",
              "        async function convertToInteractive(key) {\n",
              "          const element = document.querySelector('#df-7f440110-9eb3-4d9a-bad2-eeffb74bedee');\n",
              "          const dataTable =\n",
              "            await google.colab.kernel.invokeFunction('convertToInteractive',\n",
              "                                                     [key], {});\n",
              "          if (!dataTable) return;\n",
              "\n",
              "          const docLinkHtml = 'Like what you see? Visit the ' +\n",
              "            '<a target=\"_blank\" href=https://colab.research.google.com/notebooks/data_table.ipynb>data table notebook</a>'\n",
              "            + ' to learn more about interactive tables.';\n",
              "          element.innerHTML = '';\n",
              "          dataTable['output_type'] = 'display_data';\n",
              "          await google.colab.output.renderOutput(dataTable, element);\n",
              "          const docLink = document.createElement('div');\n",
              "          docLink.innerHTML = docLinkHtml;\n",
              "          element.appendChild(docLink);\n",
              "        }\n",
              "      </script>\n",
              "    </div>\n",
              "  </div>\n",
              "  "
            ],
            "text/plain": [
              "    PredictorA  PredictorB Class   Case\n",
              "0   742.115646   68.783380    PS   Test\n",
              "1  3278.725624  154.898761    PS  Train\n",
              "2  1727.410431   84.564598    WS  Train\n",
              "3  1194.931973  101.091070    PS  Train\n",
              "4  1140.426304   86.466698    PS   Test"
            ]
          },
          "metadata": {},
          "execution_count": 8
        }
      ]
    },
    {
      "cell_type": "code",
      "metadata": {
        "id": "6ZxS6B9xTCYx"
      },
      "source": [
        "color_dict = {'PS':'cornflowerblue', 'WS':'darkorange'}\n",
        "df['color']= df['Class'].map(color_dict)"
      ],
      "execution_count": 9,
      "outputs": []
    },
    {
      "cell_type": "code",
      "metadata": {
        "id": "AIADf6aaJ9HT",
        "outputId": "ebdcc904-c6e2-4ef0-f3fc-6ca96d01c6c3",
        "colab": {
          "base_uri": "https://localhost:8080/",
          "height": 206
        }
      },
      "source": [
        "df.head()"
      ],
      "execution_count": 10,
      "outputs": [
        {
          "output_type": "execute_result",
          "data": {
            "text/html": [
              "\n",
              "  <div id=\"df-89a40b59-6fa2-434e-b56d-c3bd93e1bd61\">\n",
              "    <div class=\"colab-df-container\">\n",
              "      <div>\n",
              "<style scoped>\n",
              "    .dataframe tbody tr th:only-of-type {\n",
              "        vertical-align: middle;\n",
              "    }\n",
              "\n",
              "    .dataframe tbody tr th {\n",
              "        vertical-align: top;\n",
              "    }\n",
              "\n",
              "    .dataframe thead th {\n",
              "        text-align: right;\n",
              "    }\n",
              "</style>\n",
              "<table border=\"1\" class=\"dataframe\">\n",
              "  <thead>\n",
              "    <tr style=\"text-align: right;\">\n",
              "      <th></th>\n",
              "      <th>PredictorA</th>\n",
              "      <th>PredictorB</th>\n",
              "      <th>Class</th>\n",
              "      <th>Case</th>\n",
              "      <th>color</th>\n",
              "    </tr>\n",
              "  </thead>\n",
              "  <tbody>\n",
              "    <tr>\n",
              "      <th>0</th>\n",
              "      <td>742.115646</td>\n",
              "      <td>68.783380</td>\n",
              "      <td>PS</td>\n",
              "      <td>Test</td>\n",
              "      <td>cornflowerblue</td>\n",
              "    </tr>\n",
              "    <tr>\n",
              "      <th>1</th>\n",
              "      <td>3278.725624</td>\n",
              "      <td>154.898761</td>\n",
              "      <td>PS</td>\n",
              "      <td>Train</td>\n",
              "      <td>cornflowerblue</td>\n",
              "    </tr>\n",
              "    <tr>\n",
              "      <th>2</th>\n",
              "      <td>1727.410431</td>\n",
              "      <td>84.564598</td>\n",
              "      <td>WS</td>\n",
              "      <td>Train</td>\n",
              "      <td>darkorange</td>\n",
              "    </tr>\n",
              "    <tr>\n",
              "      <th>3</th>\n",
              "      <td>1194.931973</td>\n",
              "      <td>101.091070</td>\n",
              "      <td>PS</td>\n",
              "      <td>Train</td>\n",
              "      <td>cornflowerblue</td>\n",
              "    </tr>\n",
              "    <tr>\n",
              "      <th>4</th>\n",
              "      <td>1140.426304</td>\n",
              "      <td>86.466698</td>\n",
              "      <td>PS</td>\n",
              "      <td>Test</td>\n",
              "      <td>cornflowerblue</td>\n",
              "    </tr>\n",
              "  </tbody>\n",
              "</table>\n",
              "</div>\n",
              "      <button class=\"colab-df-convert\" onclick=\"convertToInteractive('df-89a40b59-6fa2-434e-b56d-c3bd93e1bd61')\"\n",
              "              title=\"Convert this dataframe to an interactive table.\"\n",
              "              style=\"display:none;\">\n",
              "        \n",
              "  <svg xmlns=\"http://www.w3.org/2000/svg\" height=\"24px\"viewBox=\"0 0 24 24\"\n",
              "       width=\"24px\">\n",
              "    <path d=\"M0 0h24v24H0V0z\" fill=\"none\"/>\n",
              "    <path d=\"M18.56 5.44l.94 2.06.94-2.06 2.06-.94-2.06-.94-.94-2.06-.94 2.06-2.06.94zm-11 1L8.5 8.5l.94-2.06 2.06-.94-2.06-.94L8.5 2.5l-.94 2.06-2.06.94zm10 10l.94 2.06.94-2.06 2.06-.94-2.06-.94-.94-2.06-.94 2.06-2.06.94z\"/><path d=\"M17.41 7.96l-1.37-1.37c-.4-.4-.92-.59-1.43-.59-.52 0-1.04.2-1.43.59L10.3 9.45l-7.72 7.72c-.78.78-.78 2.05 0 2.83L4 21.41c.39.39.9.59 1.41.59.51 0 1.02-.2 1.41-.59l7.78-7.78 2.81-2.81c.8-.78.8-2.07 0-2.86zM5.41 20L4 18.59l7.72-7.72 1.47 1.35L5.41 20z\"/>\n",
              "  </svg>\n",
              "      </button>\n",
              "      \n",
              "  <style>\n",
              "    .colab-df-container {\n",
              "      display:flex;\n",
              "      flex-wrap:wrap;\n",
              "      gap: 12px;\n",
              "    }\n",
              "\n",
              "    .colab-df-convert {\n",
              "      background-color: #E8F0FE;\n",
              "      border: none;\n",
              "      border-radius: 50%;\n",
              "      cursor: pointer;\n",
              "      display: none;\n",
              "      fill: #1967D2;\n",
              "      height: 32px;\n",
              "      padding: 0 0 0 0;\n",
              "      width: 32px;\n",
              "    }\n",
              "\n",
              "    .colab-df-convert:hover {\n",
              "      background-color: #E2EBFA;\n",
              "      box-shadow: 0px 1px 2px rgba(60, 64, 67, 0.3), 0px 1px 3px 1px rgba(60, 64, 67, 0.15);\n",
              "      fill: #174EA6;\n",
              "    }\n",
              "\n",
              "    [theme=dark] .colab-df-convert {\n",
              "      background-color: #3B4455;\n",
              "      fill: #D2E3FC;\n",
              "    }\n",
              "\n",
              "    [theme=dark] .colab-df-convert:hover {\n",
              "      background-color: #434B5C;\n",
              "      box-shadow: 0px 1px 3px 1px rgba(0, 0, 0, 0.15);\n",
              "      filter: drop-shadow(0px 1px 2px rgba(0, 0, 0, 0.3));\n",
              "      fill: #FFFFFF;\n",
              "    }\n",
              "  </style>\n",
              "\n",
              "      <script>\n",
              "        const buttonEl =\n",
              "          document.querySelector('#df-89a40b59-6fa2-434e-b56d-c3bd93e1bd61 button.colab-df-convert');\n",
              "        buttonEl.style.display =\n",
              "          google.colab.kernel.accessAllowed ? 'block' : 'none';\n",
              "\n",
              "        async function convertToInteractive(key) {\n",
              "          const element = document.querySelector('#df-89a40b59-6fa2-434e-b56d-c3bd93e1bd61');\n",
              "          const dataTable =\n",
              "            await google.colab.kernel.invokeFunction('convertToInteractive',\n",
              "                                                     [key], {});\n",
              "          if (!dataTable) return;\n",
              "\n",
              "          const docLinkHtml = 'Like what you see? Visit the ' +\n",
              "            '<a target=\"_blank\" href=https://colab.research.google.com/notebooks/data_table.ipynb>data table notebook</a>'\n",
              "            + ' to learn more about interactive tables.';\n",
              "          element.innerHTML = '';\n",
              "          dataTable['output_type'] = 'display_data';\n",
              "          await google.colab.output.renderOutput(dataTable, element);\n",
              "          const docLink = document.createElement('div');\n",
              "          docLink.innerHTML = docLinkHtml;\n",
              "          element.appendChild(docLink);\n",
              "        }\n",
              "      </script>\n",
              "    </div>\n",
              "  </div>\n",
              "  "
            ],
            "text/plain": [
              "    PredictorA  PredictorB Class   Case           color\n",
              "0   742.115646   68.783380    PS   Test  cornflowerblue\n",
              "1  3278.725624  154.898761    PS  Train  cornflowerblue\n",
              "2  1727.410431   84.564598    WS  Train      darkorange\n",
              "3  1194.931973  101.091070    PS  Train  cornflowerblue\n",
              "4  1140.426304   86.466698    PS   Test  cornflowerblue"
            ]
          },
          "metadata": {},
          "execution_count": 10
        }
      ]
    },
    {
      "cell_type": "code",
      "metadata": {
        "id": "3EjQ7vONPZGV"
      },
      "source": [
        "train = df[df['Case']=='Train']\n",
        "test = df[df['Case']=='Test']"
      ],
      "execution_count": 11,
      "outputs": []
    },
    {
      "cell_type": "code",
      "metadata": {
        "id": "_TPyVK3kKFal",
        "outputId": "6e1def09-3d38-43e1-95a8-791a229562e5",
        "colab": {
          "base_uri": "https://localhost:8080/",
          "height": 206
        }
      },
      "source": [
        "train.head()"
      ],
      "execution_count": 12,
      "outputs": [
        {
          "output_type": "execute_result",
          "data": {
            "text/html": [
              "\n",
              "  <div id=\"df-ca88758c-eff3-4adb-b85c-2b3bae6eb2b7\">\n",
              "    <div class=\"colab-df-container\">\n",
              "      <div>\n",
              "<style scoped>\n",
              "    .dataframe tbody tr th:only-of-type {\n",
              "        vertical-align: middle;\n",
              "    }\n",
              "\n",
              "    .dataframe tbody tr th {\n",
              "        vertical-align: top;\n",
              "    }\n",
              "\n",
              "    .dataframe thead th {\n",
              "        text-align: right;\n",
              "    }\n",
              "</style>\n",
              "<table border=\"1\" class=\"dataframe\">\n",
              "  <thead>\n",
              "    <tr style=\"text-align: right;\">\n",
              "      <th></th>\n",
              "      <th>PredictorA</th>\n",
              "      <th>PredictorB</th>\n",
              "      <th>Class</th>\n",
              "      <th>Case</th>\n",
              "      <th>color</th>\n",
              "    </tr>\n",
              "  </thead>\n",
              "  <tbody>\n",
              "    <tr>\n",
              "      <th>1</th>\n",
              "      <td>3278.725624</td>\n",
              "      <td>154.898761</td>\n",
              "      <td>PS</td>\n",
              "      <td>Train</td>\n",
              "      <td>cornflowerblue</td>\n",
              "    </tr>\n",
              "    <tr>\n",
              "      <th>2</th>\n",
              "      <td>1727.410431</td>\n",
              "      <td>84.564598</td>\n",
              "      <td>WS</td>\n",
              "      <td>Train</td>\n",
              "      <td>darkorange</td>\n",
              "    </tr>\n",
              "    <tr>\n",
              "      <th>3</th>\n",
              "      <td>1194.931973</td>\n",
              "      <td>101.091070</td>\n",
              "      <td>PS</td>\n",
              "      <td>Train</td>\n",
              "      <td>cornflowerblue</td>\n",
              "    </tr>\n",
              "    <tr>\n",
              "      <th>11</th>\n",
              "      <td>1027.222222</td>\n",
              "      <td>68.710620</td>\n",
              "      <td>WS</td>\n",
              "      <td>Train</td>\n",
              "      <td>darkorange</td>\n",
              "    </tr>\n",
              "    <tr>\n",
              "      <th>14</th>\n",
              "      <td>1035.607710</td>\n",
              "      <td>73.405592</td>\n",
              "      <td>PS</td>\n",
              "      <td>Train</td>\n",
              "      <td>cornflowerblue</td>\n",
              "    </tr>\n",
              "  </tbody>\n",
              "</table>\n",
              "</div>\n",
              "      <button class=\"colab-df-convert\" onclick=\"convertToInteractive('df-ca88758c-eff3-4adb-b85c-2b3bae6eb2b7')\"\n",
              "              title=\"Convert this dataframe to an interactive table.\"\n",
              "              style=\"display:none;\">\n",
              "        \n",
              "  <svg xmlns=\"http://www.w3.org/2000/svg\" height=\"24px\"viewBox=\"0 0 24 24\"\n",
              "       width=\"24px\">\n",
              "    <path d=\"M0 0h24v24H0V0z\" fill=\"none\"/>\n",
              "    <path d=\"M18.56 5.44l.94 2.06.94-2.06 2.06-.94-2.06-.94-.94-2.06-.94 2.06-2.06.94zm-11 1L8.5 8.5l.94-2.06 2.06-.94-2.06-.94L8.5 2.5l-.94 2.06-2.06.94zm10 10l.94 2.06.94-2.06 2.06-.94-2.06-.94-.94-2.06-.94 2.06-2.06.94z\"/><path d=\"M17.41 7.96l-1.37-1.37c-.4-.4-.92-.59-1.43-.59-.52 0-1.04.2-1.43.59L10.3 9.45l-7.72 7.72c-.78.78-.78 2.05 0 2.83L4 21.41c.39.39.9.59 1.41.59.51 0 1.02-.2 1.41-.59l7.78-7.78 2.81-2.81c.8-.78.8-2.07 0-2.86zM5.41 20L4 18.59l7.72-7.72 1.47 1.35L5.41 20z\"/>\n",
              "  </svg>\n",
              "      </button>\n",
              "      \n",
              "  <style>\n",
              "    .colab-df-container {\n",
              "      display:flex;\n",
              "      flex-wrap:wrap;\n",
              "      gap: 12px;\n",
              "    }\n",
              "\n",
              "    .colab-df-convert {\n",
              "      background-color: #E8F0FE;\n",
              "      border: none;\n",
              "      border-radius: 50%;\n",
              "      cursor: pointer;\n",
              "      display: none;\n",
              "      fill: #1967D2;\n",
              "      height: 32px;\n",
              "      padding: 0 0 0 0;\n",
              "      width: 32px;\n",
              "    }\n",
              "\n",
              "    .colab-df-convert:hover {\n",
              "      background-color: #E2EBFA;\n",
              "      box-shadow: 0px 1px 2px rgba(60, 64, 67, 0.3), 0px 1px 3px 1px rgba(60, 64, 67, 0.15);\n",
              "      fill: #174EA6;\n",
              "    }\n",
              "\n",
              "    [theme=dark] .colab-df-convert {\n",
              "      background-color: #3B4455;\n",
              "      fill: #D2E3FC;\n",
              "    }\n",
              "\n",
              "    [theme=dark] .colab-df-convert:hover {\n",
              "      background-color: #434B5C;\n",
              "      box-shadow: 0px 1px 3px 1px rgba(0, 0, 0, 0.15);\n",
              "      filter: drop-shadow(0px 1px 2px rgba(0, 0, 0, 0.3));\n",
              "      fill: #FFFFFF;\n",
              "    }\n",
              "  </style>\n",
              "\n",
              "      <script>\n",
              "        const buttonEl =\n",
              "          document.querySelector('#df-ca88758c-eff3-4adb-b85c-2b3bae6eb2b7 button.colab-df-convert');\n",
              "        buttonEl.style.display =\n",
              "          google.colab.kernel.accessAllowed ? 'block' : 'none';\n",
              "\n",
              "        async function convertToInteractive(key) {\n",
              "          const element = document.querySelector('#df-ca88758c-eff3-4adb-b85c-2b3bae6eb2b7');\n",
              "          const dataTable =\n",
              "            await google.colab.kernel.invokeFunction('convertToInteractive',\n",
              "                                                     [key], {});\n",
              "          if (!dataTable) return;\n",
              "\n",
              "          const docLinkHtml = 'Like what you see? Visit the ' +\n",
              "            '<a target=\"_blank\" href=https://colab.research.google.com/notebooks/data_table.ipynb>data table notebook</a>'\n",
              "            + ' to learn more about interactive tables.';\n",
              "          element.innerHTML = '';\n",
              "          dataTable['output_type'] = 'display_data';\n",
              "          await google.colab.output.renderOutput(dataTable, element);\n",
              "          const docLink = document.createElement('div');\n",
              "          docLink.innerHTML = docLinkHtml;\n",
              "          element.appendChild(docLink);\n",
              "        }\n",
              "      </script>\n",
              "    </div>\n",
              "  </div>\n",
              "  "
            ],
            "text/plain": [
              "     PredictorA  PredictorB Class   Case           color\n",
              "1   3278.725624  154.898761    PS  Train  cornflowerblue\n",
              "2   1727.410431   84.564598    WS  Train      darkorange\n",
              "3   1194.931973  101.091070    PS  Train  cornflowerblue\n",
              "11  1027.222222   68.710620    WS  Train      darkorange\n",
              "14  1035.607710   73.405592    PS  Train  cornflowerblue"
            ]
          },
          "metadata": {},
          "execution_count": 12
        }
      ]
    },
    {
      "cell_type": "code",
      "metadata": {
        "id": "CQMMJLlGPuv9",
        "outputId": "8d80e252-3c7d-404a-ef89-0135f1571964",
        "colab": {
          "base_uri": "https://localhost:8080/",
          "height": 279
        }
      },
      "source": [
        "fig, ax = plt.subplots()\n",
        "for class_ in pd.unique(df['Class']):\n",
        "  train[train['Class']==class_].plot.scatter('PredictorA','PredictorB', c='none', edgecolor=color_dict[class_],label=class_, ax=ax)"
      ],
      "execution_count": 13,
      "outputs": [
        {
          "output_type": "display_data",
          "data": {
            "image/png": "[encoded data removed]",
            "text/plain": [
              "<Figure size 432x288 with 1 Axes>"
            ]
          },
          "metadata": {
            "needs_background": "light"
          }
        }
      ]
    },
    {
      "cell_type": "markdown",
      "metadata": {
        "id": "k3DG2C1iZTDC"
      },
      "source": [
        "## Training a predictive model\n",
        "\n",
        "The next step is to train a predictive data model. We are going to use a simple model, a logistic regression.\n",
        "\n",
        "\n",
        "\n",
        "1. We import the necessary functions from the [scikit_lern](https://scikit-learn.org/stable/) library (v1.0.2 at the time of doing this tutorial).\n",
        "2. We create our training variables, dividing the dataset into predictor variables (usually represented by $X$) *X_train*, and target variable (usually represented by $y$) *y_train*, we do the same for the test data, this is *X_test* and *y_test*\n",
        "3. We train the model by calling the *fit* function.\n",
        "4. We generate the ROC graph ([Receiver Operating Characteristic](https://en.wikipedia.org/wiki/Receiver_operating_characteristic)) and calculate the area under the curve.\n",
        "5. We analyze\n"
      ]
    },
    {
      "cell_type": "code",
      "metadata": {
        "id": "v-cOC5IqQyEO"
      },
      "source": [
        "from sklearn.linear_model import LogisticRegression\n",
        "from sklearn import metrics"
      ],
      "execution_count": 14,
      "outputs": []
    },
    {
      "cell_type": "code",
      "metadata": {
        "id": "X38qanb5rQHv"
      },
      "source": [
        "X_train = train[['PredictorA','PredictorB']]\n",
        "y_train = train['Class']\n",
        "\n",
        "X_test = test[['PredictorA','PredictorB']]\n",
        "y_test = test['Class']"
      ],
      "execution_count": 15,
      "outputs": []
    },
    {
      "cell_type": "code",
      "metadata": {
        "id": "RtI4W9_XrHtz",
        "outputId": "f74d944f-76c3-41dd-ea0e-6993600b456f",
        "colab": {
          "base_uri": "https://localhost:8080/"
        }
      },
      "source": [
        "clf = LogisticRegression()\n",
        "clf.fit(X_train, y_train)"
      ],
      "execution_count": 16,
      "outputs": [
        {
          "output_type": "execute_result",
          "data": {
            "text/plain": [
              "LogisticRegression()"
            ]
          },
          "metadata": {},
          "execution_count": 16
        }
      ]
    },
    {
      "cell_type": "code",
      "source": [
        "clf.predict(X_test)[0:5].tolist()"
      ],
      "metadata": {
        "id": "4A2te08CLKzz",
        "outputId": "30efbb6f-34da-4a27-94b6-db9f1232f203",
        "colab": {
          "base_uri": "https://localhost:8080/"
        }
      },
      "execution_count": 17,
      "outputs": [
        {
          "output_type": "execute_result",
          "data": {
            "text/plain": [
              "['PS', 'PS', 'WS', 'WS', 'PS']"
            ]
          },
          "metadata": {},
          "execution_count": 17
        }
      ]
    },
    {
      "cell_type": "code",
      "source": [
        "y_test[0:5]"
      ],
      "metadata": {
        "id": "uXUR3RJeLOA6",
        "outputId": "c471776b-e992-433b-cfff-86bb04428022",
        "colab": {
          "base_uri": "https://localhost:8080/"
        }
      },
      "execution_count": 18,
      "outputs": [
        {
          "output_type": "execute_result",
          "data": {
            "text/plain": [
              "0    PS\n",
              "4    PS\n",
              "5    WS\n",
              "6    WS\n",
              "7    PS\n",
              "Name: Class, dtype: object"
            ]
          },
          "metadata": {},
          "execution_count": 18
        }
      ]
    },
    {
      "cell_type": "code",
      "metadata": {
        "id": "pJ8S7QOorHcr",
        "outputId": "2580c952-5a24-4d95-891e-4646613e993b",
        "colab": {
          "base_uri": "https://localhost:8080/",
          "height": 351
        }
      },
      "source": [
        "roc_curve = metrics.plot_roc_curve(clf, X_test, y_test)\n",
        "plt.plot([0, 1], [0, 1], color='gray', lw=2, linestyle='--')"
      ],
      "execution_count": 19,
      "outputs": [
        {
          "output_type": "stream",
          "name": "stderr",
          "text": [
            "/usr/local/lib/python3.7/dist-packages/sklearn/utils/deprecation.py:87: FutureWarning: Function plot_roc_curve is deprecated; Function :func:`plot_roc_curve` is deprecated in 1.0 and will be removed in 1.2. Use one of the class methods: :meth:`sklearn.metric.RocCurveDisplay.from_predictions` or :meth:`sklearn.metric.RocCurveDisplay.from_estimator`.\n",
            "  warnings.warn(msg, category=FutureWarning)\n"
          ]
        },
        {
          "output_type": "execute_result",
          "data": {
            "text/plain": [
              "[<matplotlib.lines.Line2D at 0x7fecbc9b0fd0>]"
            ]
          },
          "metadata": {},
          "execution_count": 19
        },
        {
          "output_type": "display_data",
          "data": {
            "image/png": "[encoded data removed]",
            "text/plain": [
              "<Figure size 432x288 with 1 Axes>"
            ]
          },
          "metadata": {
            "needs_background": "light"
          }
        }
      ]
    },
    {
      "cell_type": "code",
      "source": [
        ""
      ],
      "metadata": {
        "id": "TEjMp2nJK_Jm"
      },
      "execution_count": null,
      "outputs": []
    }
  ]
}